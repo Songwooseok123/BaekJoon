{
  "nbformat": 4,
  "nbformat_minor": 0,
  "metadata": {
    "colab": {
      "name": "백준.ipynb",
      "provenance": [],
      "authorship_tag": "ABX9TyPdse0bmQREZpbKLKwGXQXF",
      "include_colab_link": true
    },
    "kernelspec": {
      "name": "python3",
      "display_name": "Python 3"
    },
    "language_info": {
      "name": "python"
    }
  },
  "cells": [
    {
      "cell_type": "markdown",
      "metadata": {
        "id": "view-in-github",
        "colab_type": "text"
      },
      "source": [
        "<a href=\"https://colab.research.google.com/github/Songwooseok123/BaekJoon/blob/main/%EB%B0%B1%EC%A4%80%EC%A0%95%EB%A6%AC.ipynb\" target=\"_parent\"><img src=\"https://colab.research.google.com/assets/colab-badge.svg\" alt=\"Open In Colab\"/></a>"
      ]
    },
    {
      "cell_type": "markdown",
      "metadata": {
        "id": "d4RKMW0tvjp5"
      },
      "source": [
        "#1000\n",
        "- 입력 변수 두개에 묶기.\n"
      ]
    },
    {
      "cell_type": "code",
      "metadata": {
        "id": "GcvK3jpGvKgC"
      },
      "source": [
        "a, b = map(int, input().split())\n",
        "print(a-b)"
      ],
      "execution_count": null,
      "outputs": []
    },
    {
      "cell_type": "code",
      "metadata": {
        "colab": {
          "base_uri": "https://localhost:8080/"
        },
        "id": "MYXmQFEOv52p",
        "outputId": "a264dae0-d9d7-46b4-dc2b-459411cc61fd"
      },
      "source": [
        "5%3"
      ],
      "execution_count": null,
      "outputs": [
        {
          "output_type": "execute_result",
          "data": {
            "text/plain": [
              "2"
            ]
          },
          "metadata": {
            "tags": []
          },
          "execution_count": 2
        }
      ]
    },
    {
      "cell_type": "code",
      "metadata": {
        "colab": {
          "base_uri": "https://localhost:8080/"
        },
        "id": "4sWTw4lrvn2l",
        "outputId": "23e4be33-3511-4f22-d12d-339b40d81323"
      },
      "source": [
        "a,b= map(int,input().split())\n",
        "print(a//b)\n",
        "print(a%b)"
      ],
      "execution_count": null,
      "outputs": [
        {
          "output_type": "stream",
          "text": [
            "1000 100\n",
            "10\n",
            "0\n"
          ],
          "name": "stdout"
        }
      ]
    },
    {
      "cell_type": "markdown",
      "metadata": {
        "id": "uuU7syHRw1xc"
      },
      "source": [
        "#16진수 -1550번"
      ]
    },
    {
      "cell_type": "code",
      "metadata": {
        "colab": {
          "base_uri": "https://localhost:8080/"
        },
        "id": "bFZR4fP8wKy5",
        "outputId": "301edfbf-bb2d-4949-c907-385bbca4da90"
      },
      "source": [
        "print(int(input(), 16))"
      ],
      "execution_count": null,
      "outputs": [
        {
          "output_type": "stream",
          "text": [
            "A\n",
            "10\n"
          ],
          "name": "stdout"
        }
      ]
    },
    {
      "cell_type": "markdown",
      "metadata": {
        "id": "L74YYEcjz-v6"
      },
      "source": [
        "#2338"
      ]
    },
    {
      "cell_type": "code",
      "metadata": {
        "colab": {
          "base_uri": "https://localhost:8080/"
        },
        "id": "JqYILhffxJZc",
        "outputId": "f0dde89f-7f6b-4034-dd47-0d10fadd252b"
      },
      "source": [
        "A=int(input())\n",
        "B=int(input())\n",
        "print(A+B)\n",
        "print(A-B)\n",
        "print(A*B)"
      ],
      "execution_count": null,
      "outputs": [
        {
          "output_type": "stream",
          "text": [
            "1\n",
            "2\n",
            "3\n",
            "-1\n",
            "2\n"
          ],
          "name": "stdout"
        }
      ]
    },
    {
      "cell_type": "code",
      "metadata": {
        "id": "_wwwNdKR4nrM"
      },
      "source": [
        "a,b=map(int,input().split())\n",
        "print(b*2-a)"
      ],
      "execution_count": null,
      "outputs": []
    },
    {
      "cell_type": "code",
      "metadata": {
        "id": "ttpexQjI5OfK"
      },
      "source": [
        "print(\".  .   .\")\n",
        "print(\"|  | _ | _. _ ._ _  _\")\n",
        "print(\"|/\\|(/.|(_.(_)[ | )(/.\") "
      ],
      "execution_count": null,
      "outputs": []
    },
    {
      "cell_type": "code",
      "metadata": {
        "id": "JFPKUv4arwRk"
      },
      "source": [
        "a, b = map(int, input().split())\n",
        "print(a/b)"
      ],
      "execution_count": null,
      "outputs": []
    }
  ]
}